{
  "cells": [
    {
      "cell_type": "markdown",
      "metadata": {
        "id": "7pu0iTE9ff5E"
      },
      "source": [
        "Data Wrangling - generally refers to transforming raw data into a useable format for your analyses of interest, including loading, aggregating, merging, grouping, concatenating and formatting\n",
        "\n",
        "Also known as data munging or data preprocessing, is the process of cleaning, structuring,\n",
        "and transforming raw data into a format suitable for analysis or machine learning."
      ]
    },
    {
      "cell_type": "markdown",
      "metadata": {
        "id": "8fITi_6GkaQo"
      },
      "source": [
        "**1. Data exploration**"
      ]
    },
    {
      "cell_type": "code",
      "execution_count": 1,
      "metadata": {
        "colab": {
          "base_uri": "https://localhost:8080/",
          "height": 269
        },
        "id": "b_wl7RUdO2UO",
        "outputId": "bddc5255-24b0-48ad-f7e4-21b069d7da33"
      },
      "outputs": [
        {
          "name": "stderr",
          "output_type": "stream",
          "text": [
            "C:\\Users\\King Abubakar\\AppData\\Local\\Temp\\ipykernel_2432\\3979683001.py:2: DeprecationWarning: \n",
            "Pyarrow will become a required dependency of pandas in the next major release of pandas (pandas 3.0),\n",
            "(to allow more performant data types, such as the Arrow string type, and better interoperability with other libraries)\n",
            "but was not found to be installed on your system.\n",
            "If this would cause problems for you,\n",
            "please provide us feedback at https://github.com/pandas-dev/pandas/issues/54466\n",
            "        \n",
            "  import pandas as pd\n"
          ]
        },
        {
          "data": {
            "text/html": [
              "<div>\n",
              "<style scoped>\n",
              "    .dataframe tbody tr th:only-of-type {\n",
              "        vertical-align: middle;\n",
              "    }\n",
              "\n",
              "    .dataframe tbody tr th {\n",
              "        vertical-align: top;\n",
              "    }\n",
              "\n",
              "    .dataframe thead th {\n",
              "        text-align: right;\n",
              "    }\n",
              "</style>\n",
              "<table border=\"1\" class=\"dataframe\">\n",
              "  <thead>\n",
              "    <tr style=\"text-align: right;\">\n",
              "      <th></th>\n",
              "      <th>Name</th>\n",
              "      <th>Age</th>\n",
              "      <th>Gender</th>\n",
              "      <th>marks</th>\n",
              "    </tr>\n",
              "  </thead>\n",
              "  <tbody>\n",
              "    <tr>\n",
              "      <th>0</th>\n",
              "      <td>Allan</td>\n",
              "      <td>25</td>\n",
              "      <td>male</td>\n",
              "      <td>85</td>\n",
              "    </tr>\n",
              "    <tr>\n",
              "      <th>1</th>\n",
              "      <td>Grace</td>\n",
              "      <td>30</td>\n",
              "      <td>female</td>\n",
              "      <td>92</td>\n",
              "    </tr>\n",
              "    <tr>\n",
              "      <th>2</th>\n",
              "      <td>Sebu</td>\n",
              "      <td>22</td>\n",
              "      <td>male</td>\n",
              "      <td>NaN</td>\n",
              "    </tr>\n",
              "    <tr>\n",
              "      <th>3</th>\n",
              "      <td>Macklin</td>\n",
              "      <td>28</td>\n",
              "      <td>female</td>\n",
              "      <td>88</td>\n",
              "    </tr>\n",
              "    <tr>\n",
              "      <th>4</th>\n",
              "      <td>Joash</td>\n",
              "      <td>24</td>\n",
              "      <td>male</td>\n",
              "      <td>NaN</td>\n",
              "    </tr>\n",
              "    <tr>\n",
              "      <th>5</th>\n",
              "      <td>Christine</td>\n",
              "      <td>34</td>\n",
              "      <td>female</td>\n",
              "      <td>79</td>\n",
              "    </tr>\n",
              "    <tr>\n",
              "      <th>6</th>\n",
              "      <td>Mike</td>\n",
              "      <td>19</td>\n",
              "      <td>male</td>\n",
              "      <td>80</td>\n",
              "    </tr>\n",
              "  </tbody>\n",
              "</table>\n",
              "</div>"
            ],
            "text/plain": [
              "        Name  Age  Gender marks\n",
              "0      Allan   25    male    85\n",
              "1      Grace   30  female    92\n",
              "2       Sebu   22    male   NaN\n",
              "3    Macklin   28  female    88\n",
              "4      Joash   24    male   NaN\n",
              "5  Christine   34  female    79\n",
              "6       Mike   19    male    80"
            ]
          },
          "execution_count": 1,
          "metadata": {},
          "output_type": "execute_result"
        }
      ],
      "source": [
        "#here we assign the data, and then we visualize the data in a tabular\n",
        "import pandas as pd\n",
        "data = {\n",
        "'Name':[ \"Allan\",\"Grace\",\"Sebu\",\"Macklin\",\"Joash\",\"Christine\",\"Mike\"],\n",
        "'Age':[25,30,22,28,24,34,19],\n",
        "'Gender':[\"male\",\"female\",\"male\",\"female\",\"male\",\"female\",\"male\"],\n",
        "'marks':[85,92,'NaN',88,'NaN',79,80]\n",
        "}\n",
        "mydata=pd.DataFrame(data)\n",
        "(mydata)"
      ]
    },
    {
      "cell_type": "markdown",
      "metadata": {
        "id": "6SkEySGvW1nP"
      },
      "source": [
        "**2. Dealing with missing values,**"
      ]
    },
    {
      "cell_type": "code",
      "execution_count": 2,
      "metadata": {
        "colab": {
          "base_uri": "https://localhost:8080/"
        },
        "id": "hX7o1hGhW4sQ",
        "outputId": "2978e78d-0cb7-4ecb-f761-786c493164ce"
      },
      "outputs": [
        {
          "name": "stdout",
          "output_type": "stream",
          "text": [
            "Original Data\n",
            "        Name  Age  Gender marks\n",
            "0      Allan   25    male    85\n",
            "1      Grace   30  female    92\n",
            "2       Sebu   22    male   NaN\n",
            "3    Macklin   28  female    88\n",
            "4      Joash   24    male   NaN\n",
            "5  Christine   34  female    79\n",
            "6       Mike   19    male    80\n",
            "\n",
            " modified data\n",
            "        Name  Age  Gender marks\n",
            "0      Allan   25    male    85\n",
            "1      Grace   30  female    92\n",
            "2       Sebu   22    male    88\n",
            "3    Macklin   28  female    88\n",
            "4      Joash   24    male    94\n",
            "5  Christine   34  female    79\n",
            "6       Mike   19    male    80\n"
          ]
        }
      ],
      "source": [
        "# as we can see from the previous output, thereare NaN values present in the MARKS column.\n",
        "mydata=pd.DataFrame(data)\n",
        "print(\"Original Data\")\n",
        "print(mydata)\n",
        "row_index=2\n",
        "column_name=\"marks\"\n",
        "new_value=\"88\"\n",
        "mydata.at[row_index,column_name]=new_value\n",
        "row_index=4\n",
        "new_value=\"94\"\n",
        "column_name=\"marks\"\n",
        "mydata.at[row_index,column_name]=new_value\n",
        "print(\"\\n modified data\")\n",
        "print(mydata)"
      ]
    },
    {
      "cell_type": "markdown",
      "metadata": {
        "id": "RlWxbYs-vnFU"
      },
      "source": [
        "**3. Reshaping**\n",
        "\n",
        "replace function () or .map () function from series is used to substitute each value in series with\n",
        "another value."
      ]
    },
    {
      "cell_type": "code",
      "execution_count": 3,
      "metadata": {
        "colab": {
          "base_uri": "https://localhost:8080/",
          "height": 338
        },
        "id": "C0LfIKFB2LmA",
        "outputId": "f8ade221-4eb5-4a1b-ee4c-055d5f75b4be"
      },
      "outputs": [
        {
          "name": "stdout",
          "output_type": "stream",
          "text": [
            "Data type:\n",
            "object\n",
            "\n",
            " Reshaping data(i.e replacing/mapping values)in GENDER COLUMN \n"
          ]
        },
        {
          "name": "stderr",
          "output_type": "stream",
          "text": [
            "C:\\Users\\King Abubakar\\AppData\\Local\\Temp\\ipykernel_2432\\3159720100.py:6: FutureWarning: Downcasting behavior in `replace` is deprecated and will be removed in a future version. To retain the old behavior, explicitly call `result.infer_objects(copy=False)`. To opt-in to the future behavior, set `pd.set_option('future.no_silent_downcasting', True)`\n",
            "  mydata['Gender']=mydata['Gender'].replace({'female':0.1,'male':0.0})\n"
          ]
        },
        {
          "data": {
            "text/html": [
              "<div>\n",
              "<style scoped>\n",
              "    .dataframe tbody tr th:only-of-type {\n",
              "        vertical-align: middle;\n",
              "    }\n",
              "\n",
              "    .dataframe tbody tr th {\n",
              "        vertical-align: top;\n",
              "    }\n",
              "\n",
              "    .dataframe thead th {\n",
              "        text-align: right;\n",
              "    }\n",
              "</style>\n",
              "<table border=\"1\" class=\"dataframe\">\n",
              "  <thead>\n",
              "    <tr style=\"text-align: right;\">\n",
              "      <th></th>\n",
              "      <th>Name</th>\n",
              "      <th>Age</th>\n",
              "      <th>Gender</th>\n",
              "      <th>marks</th>\n",
              "    </tr>\n",
              "  </thead>\n",
              "  <tbody>\n",
              "    <tr>\n",
              "      <th>0</th>\n",
              "      <td>Allan</td>\n",
              "      <td>25</td>\n",
              "      <td>0.0</td>\n",
              "      <td>85</td>\n",
              "    </tr>\n",
              "    <tr>\n",
              "      <th>1</th>\n",
              "      <td>Grace</td>\n",
              "      <td>30</td>\n",
              "      <td>0.1</td>\n",
              "      <td>92</td>\n",
              "    </tr>\n",
              "    <tr>\n",
              "      <th>2</th>\n",
              "      <td>Sebu</td>\n",
              "      <td>22</td>\n",
              "      <td>0.0</td>\n",
              "      <td>88</td>\n",
              "    </tr>\n",
              "    <tr>\n",
              "      <th>3</th>\n",
              "      <td>Macklin</td>\n",
              "      <td>28</td>\n",
              "      <td>0.1</td>\n",
              "      <td>88</td>\n",
              "    </tr>\n",
              "    <tr>\n",
              "      <th>4</th>\n",
              "      <td>Joash</td>\n",
              "      <td>24</td>\n",
              "      <td>0.0</td>\n",
              "      <td>94</td>\n",
              "    </tr>\n",
              "    <tr>\n",
              "      <th>5</th>\n",
              "      <td>Christine</td>\n",
              "      <td>34</td>\n",
              "      <td>0.1</td>\n",
              "      <td>79</td>\n",
              "    </tr>\n",
              "    <tr>\n",
              "      <th>6</th>\n",
              "      <td>Mike</td>\n",
              "      <td>19</td>\n",
              "      <td>0.0</td>\n",
              "      <td>80</td>\n",
              "    </tr>\n",
              "  </tbody>\n",
              "</table>\n",
              "</div>"
            ],
            "text/plain": [
              "        Name  Age  Gender marks\n",
              "0      Allan   25     0.0    85\n",
              "1      Grace   30     0.1    92\n",
              "2       Sebu   22     0.0    88\n",
              "3    Macklin   28     0.1    88\n",
              "4      Joash   24     0.0    94\n",
              "5  Christine   34     0.1    79\n",
              "6       Mike   19     0.0    80"
            ]
          },
          "execution_count": 3,
          "metadata": {},
          "output_type": "execute_result"
        }
      ],
      "source": [
        "#in the GENDER column, we can reshape the data by categorizing them into different numbers.\n",
        "\n",
        "print(\"Data type:\")\n",
        "print(mydata['Gender'].dtype)\n",
        "print(\"\\n Reshaping data(i.e replacing/mapping values)in GENDER COLUMN \")\n",
        "mydata['Gender']=mydata['Gender'].replace({'female':0.1,'male':0.0})\n",
        "(mydata)"
      ]
    },
    {
      "cell_type": "code",
      "execution_count": 4,
      "metadata": {
        "colab": {
          "base_uri": "https://localhost:8080/"
        },
        "id": "omsgL_7G5gxC",
        "outputId": "3f6aa53d-d6b8-4082-d8c6-8f9b47e47416"
      },
      "outputs": [
        {
          "name": "stdout",
          "output_type": "stream",
          "text": [
            "Data type:\n",
            "object\n",
            "\n",
            " Reshaping data(i.e replacing/mapping values)in GENDER COLUMN \n",
            "        Name  Age  Gender marks\n",
            "0      Allan   25     0.0    85\n",
            "1      Grace   30     0.1    92\n",
            "2       Sebu   22     0.0   NaN\n",
            "3    Macklin   28     0.1    88\n",
            "4      Joash   24     0.0   NaN\n",
            "5  Christine   34     0.1    79\n",
            "6       Mike   19     0.0    80\n"
          ]
        }
      ],
      "source": [
        "#ALTERNATIVELY WE CAN USE .MAP FUNCTION\n",
        "#in the GENDER column, we can reshape the data by categorizing them into different numbers.\n",
        "import pandas as pd\n",
        "data = {\n",
        "'Name':[ \"Allan\",\"Grace\",\"Sebu\",\"Macklin\",\"Joash\",\"Christine\",\"Mike\"],\n",
        "'Age':[25,30,22,28,24,34,19],\n",
        "'Gender':[\"male\",\"female\",\"male\",\"female\",\"male\",\"female\",\"male\"],\n",
        "'marks':[85,92,'NaN',88,'NaN',79,80]\n",
        "}\n",
        "mydata=pd.DataFrame(data)\n",
        "(mydata)\n",
        "print(\"Data type:\")\n",
        "print(mydata['Gender'].dtype)\n",
        "print(\"\\n Reshaping data(i.e replacing/mapping values)in GENDER COLUMN \")\n",
        "mydata['Gender']=mydata['Gender'].map({'female':0.1,'male':0.0})\n",
        "print(mydata)"
      ]
    },
    {
      "cell_type": "markdown",
      "metadata": {
        "id": "1a_FKDHQFT86"
      },
      "source": [
        "**4. Filtering data**\n",
        "\n",
        "suppose there is a requirement for the details regarding name, gender,\n",
        "marks of the top-scoring students. Here we need to remove some unwanted data. *italicized text*"
      ]
    },
    {
      "cell_type": "code",
      "execution_count": 5,
      "metadata": {
        "colab": {
          "base_uri": "https://localhost:8080/"
        },
        "id": "ALJ-PKBiFwHx",
        "outputId": "bfe2a516-8f03-4c16-bbef-af1eac9c77e8"
      },
      "outputs": [
        {
          "name": "stdout",
          "output_type": "stream",
          "text": [
            "Original Data\n",
            "        Name  Age  Gender  marks\n",
            "0      Allan   25    male   85.0\n",
            "1      Grace   30  female   92.0\n",
            "2       Sebu   22    male    NaN\n",
            "3    Macklin   28  female   88.0\n",
            "4      Joash   24    male    NaN\n",
            "5  Christine   34  female   79.0\n",
            "6       Mike   19    male   80.0\n",
            "\n",
            "\n",
            "\t Modified data\n",
            "        Name  Age  Gender  marks\n",
            "0      Allan   25    male   85.0\n",
            "1      Grace   30  female   92.0\n",
            "2       Sebu   22    male   88.0\n",
            "3    Macklin   28  female   88.0\n",
            "4      Joash   24    male   94.0\n",
            "5  Christine   34  female   79.0\n",
            "6       Mike   19    male   80.0\n",
            "Data type:\n",
            "object\n",
            "\n",
            "Reshaping data (i.e., replacing/mapping values) in GENDER COLUMN\n",
            "        Name  Age  Gender  marks\n",
            "0      Allan   25     0.0   85.0\n",
            "1      Grace   30     0.1   92.0\n",
            "2       Sebu   22     0.0   88.0\n",
            "3    Macklin   28     0.1   88.0\n",
            "4      Joash   24     0.0   94.0\n",
            "5  Christine   34     0.1   79.0\n",
            "6       Mike   19     0.0   80.0\n",
            "Filtered Data\n",
            "      Name  Gender  marks\n",
            "1    Grace     0.1   92.0\n",
            "2     Sebu     0.0   88.0\n",
            "3  Macklin     0.1   88.0\n",
            "4    Joash     0.0   94.0\n"
          ]
        }
      ],
      "source": [
        "import pandas as pd\n",
        "import numpy as np\n",
        "\n",
        "data = {\n",
        "    'Name': [\"Allan\", \"Grace\", \"Sebu\", \"Macklin\", \"Joash\", \"Christine\", \"Mike\"],\n",
        "    'Age': [25, 30, 22, 28, 24, 34, 19],\n",
        "    'Gender': [\"male\", \"female\", \"male\", \"female\", \"male\", \"female\", \"male\"],\n",
        "    'marks': [85, 92, 'NaN', 88, 'NaN', 79, 80]\n",
        "}\n",
        "\n",
        "mydata = pd.DataFrame(data)\n",
        "\n",
        "# Replace 'NaN' strings with actual NaN values\n",
        "#pd.to_numeric to convert the 'marks' column to numeric values, replacing 'NaN' with actual NaN values. This should resolve the TypeError you were facing during filtering.\n",
        "mydata['marks'] = pd.to_numeric(mydata['marks'], errors='coerce')\n",
        "\n",
        "print(\"Original Data\")\n",
        "print(mydata)\n",
        "\n",
        "row_index = 2\n",
        "column_name = \"marks\"\n",
        "new_value = 88\n",
        "mydata.at[row_index, column_name] = new_value\n",
        "\n",
        "row_index = 4\n",
        "new_value = 94\n",
        "column_name = \"marks\"\n",
        "mydata.at[row_index, column_name] = new_value\n",
        "\n",
        "print(\"\\n\")\n",
        "print(\"\\t Modified data\")\n",
        "print(mydata)\n",
        "\n",
        "print(\"Data type:\")\n",
        "print(mydata['Gender'].dtype)\n",
        "\n",
        "print(\"\\nReshaping data (i.e., replacing/mapping values) in GENDER COLUMN\")\n",
        "mydata['Gender'] = mydata['Gender'].map({'female': 0.1, 'male': 0.0})\n",
        "print(mydata)\n",
        "\n",
        "print(\"Filtered Data\")\n",
        "mydata = mydata[mydata['marks'] >= 87]\n",
        "#axis \"0\"represents row and axis\"1\" represents column\n",
        "mydata = mydata.drop(['Age'], axis=1)\n",
        "print(mydata)"
      ]
    },
    {
      "cell_type": "markdown",
      "metadata": {
        "id": "PWrrcIs7cvjN"
      },
      "source": [
        "**Retrieving details about 4 top scoring details**"
      ]
    },
    {
      "cell_type": "code",
      "execution_count": 6,
      "metadata": {
        "colab": {
          "base_uri": "https://localhost:8080/"
        },
        "id": "Hx0iy4yQdjFU",
        "outputId": "d6e34eee-c78a-4f77-c822-3c4c0bf6aa1b"
      },
      "outputs": [
        {
          "name": "stdout",
          "output_type": "stream",
          "text": [
            "Data after filtering marks column(i.e marks>=87)\n",
            "      Name  Gender  marks\n",
            "1    Grace     0.1   92.0\n",
            "2     Sebu     0.0   88.0\n",
            "3  Macklin     0.1   88.0\n",
            "4    Joash     0.0   94.0\n",
            "Retrieving details about 4 top scoring details\n",
            "      Name  Gender  marks\n",
            "4    Joash     0.0   94.0\n",
            "1    Grace     0.1   92.0\n",
            "2     Sebu     0.0   88.0\n",
            "3  Macklin     0.1   88.0\n"
          ]
        }
      ],
      "source": [
        "print(\"Data after filtering marks column(i.e marks>=87)\")\n",
        "print(mydata)\n",
        "print(\"Retrieving details about 4 top scoring details\")\n",
        "mydata.sort_values(by='marks',ascending=False,inplace=True)\n",
        "print(mydata)"
      ]
    },
    {
      "cell_type": "markdown",
      "metadata": {
        "id": "TLdwp46IQZRb"
      },
      "source": [
        "Operations that can be used in Data Wranglig:\n",
        "\n",
        "1.merge operations\n",
        "\n",
        "2.grouping method"
      ]
    },
    {
      "cell_type": "markdown",
      "metadata": {
        "id": "vAwU2fMxGMwE"
      },
      "source": [
        "(a) Wrangling Data Using Merge Operation\n",
        "Syntax:\n",
        "\n",
        "pd.merge( data_frame1,data_frame2, on=\"field \")"
      ]
    },
    {
      "cell_type": "code",
      "execution_count": 7,
      "metadata": {
        "colab": {
          "base_uri": "https://localhost:8080/"
        },
        "id": "XYdz7JoCGZGp",
        "outputId": "0d09c3f2-dbed-45e1-b95d-b04328b0eedd"
      },
      "outputs": [
        {
          "name": "stdout",
          "output_type": "stream",
          "text": [
            "   IDNO        NAME   CAMPUS\n",
            "0   101       Peter     Main\n",
            "1   102       Joyce    Ruiru\n",
            "2   103     Phyllis  Nairobi\n",
            "3   104       Moses     Main\n",
            "4   105  Priscillah    Ruiru\n",
            "5   106       Eliud  Nairobi\n",
            "6   107    Veronica     Main\n",
            "7   108        John    Ruiru\n",
            "8   109      Juliet  Nairobi\n",
            "9   110     Clinton     Main\n"
          ]
        }
      ],
      "source": [
        "#First type of Data consists of Details of Students:\n",
        "import pandas as pd\n",
        "STUDENTS_DETAILS={\n",
        "'IDNO':[101,102,103,104,105,106,107,108,109,110],\n",
        "'NAME':[\"Peter\",\"Joyce\",\"Phyllis\",\"Moses\",\"Priscillah\",\"Eliud\",\"Veronica\",\"John\",\"Juliet\",\"Clinton\"],\n",
        "'CAMPUS':[\"Main\",\"Ruiru\",\"Nairobi\",\"Main\",\"Ruiru\",\"Nairobi\",\"Main\",\"Ruiru\",\"Nairobi\",\"Main\"],\n",
        "}\n",
        "mydata1=pd.DataFrame(STUDENTS_DETAILS)\n",
        "print(mydata1)"
      ]
    },
    {
      "cell_type": "code",
      "execution_count": 8,
      "metadata": {
        "colab": {
          "base_uri": "https://localhost:8080/"
        },
        "id": "iaKajjexJl1I",
        "outputId": "f2121651-f5d3-4cc8-dd6e-68dd1b6ae8bf"
      },
      "outputs": [
        {
          "name": "stdout",
          "output_type": "stream",
          "text": [
            "   IDNO PENDING\n",
            "0   101    6000\n",
            "1   102     375\n",
            "2   103     NIL\n",
            "3   104    7640\n",
            "4   105    3800\n",
            "5   106     NIL\n",
            "6   107    1250\n",
            "7   108     900\n",
            "8   109    5200\n",
            "9   110     NIL\n"
          ]
        }
      ],
      "source": [
        "\n",
        "#Second type of Data Consist of Pending Fees Status:\n",
        "import pandas as pd\n",
        "FEES_DETAILS={\n",
        "'IDNO':[101,102,103,104,105,106,107,108,109,110],\n",
        "'PENDING':[6000,375,\"NIL\",7640,3800,\"NIL\",1250,900,5200,\"NIL\"],\n",
        "}\n",
        "mydata2=pd.DataFrame(FEES_DETAILS)\n",
        "print(mydata2)"
      ]
    },
    {
      "cell_type": "code",
      "execution_count": 9,
      "metadata": {
        "colab": {
          "base_uri": "https://localhost:8080/"
        },
        "id": "PgcrNTBALbPI",
        "outputId": "2d363b04-9e65-410d-a1f7-79840a5d3bfc"
      },
      "outputs": [
        {
          "name": "stdout",
          "output_type": "stream",
          "text": [
            "\t MERGED DATA\n",
            "   IDNO        NAME   CAMPUS PENDING\n",
            "0   101       Peter     Main    6000\n",
            "1   102       Joyce    Ruiru     375\n",
            "2   103     Phyllis  Nairobi     NIL\n",
            "3   104       Moses     Main    7640\n",
            "4   105  Priscillah    Ruiru    3800\n",
            "5   106       Eliud  Nairobi     NIL\n",
            "6   107    Veronica     Main    1250\n",
            "7   108        John    Ruiru     900\n",
            "8   109      Juliet  Nairobi    5200\n",
            "9   110     Clinton     Main     NIL\n"
          ]
        }
      ],
      "source": [
        "#Wrangling Data given Using Merge Operation\n",
        "print(\"\\t MERGED DATA\")\n",
        "mydata=pd.merge(mydata1,mydata2,on=\"IDNO\")\n",
        "print(mydata)"
      ]
    },
    {
      "cell_type": "markdown",
      "metadata": {
        "id": "1wgbZ-wz99mf"
      },
      "source": [
        "(b) Wrangling Data using Grouping Method\n",
        "\n",
        "The code below not only\n",
        "merges the student and fee details but also performs grouping and aggregation to calculate the total\n",
        "pending fees for each campus."
      ]
    },
    {
      "cell_type": "code",
      "execution_count": 10,
      "metadata": {
        "colab": {
          "base_uri": "https://localhost:8080/"
        },
        "id": "jxqHwkEZ-cdH",
        "outputId": "44e12ff7-8c28-4384-bb19-961097b9799d"
      },
      "outputs": [
        {
          "name": "stdout",
          "output_type": "stream",
          "text": [
            "    CAMPUS  PENDING\n",
            "0     Main  14890.0\n",
            "1  Nairobi   5200.0\n",
            "2    Ruiru   5075.0\n"
          ]
        }
      ],
      "source": [
        "import pandas as pd\n",
        "# First type of Data consists of Details of Students:\n",
        "STUDENTS_DETAILS = {\n",
        "    'IDNO': [101, 102, 103, 104, 105, 106, 107, 108, 109, 110],\n",
        "    'NAME': [\"Peter\", \"Joyce\", \"Phyllis\", \"Moses\", \"Priscillah\", \"Eliud\", \"Veronica\", \"John\", \"Juliet\", \"Clinton\"],\n",
        "    'CAMPUS': [\"Main\", \"Ruiru\", \"Nairobi\", \"Main\", \"Ruiru\", \"Nairobi\", \"Main\", \"Ruiru\", \"Nairobi\", \"Main\"],\n",
        "}\n",
        "mydata1 = pd.DataFrame(STUDENTS_DETAILS)\n",
        "\n",
        "# Second type of Data Consists of Pending Fees Status:\n",
        "FEES_DETAILS = {\n",
        "    'IDNO': [101, 102, 103, 104, 105, 106, 107, 108, 109, 110],\n",
        "    'PENDING': [6000, 375, \"NIL\", 7640, 3800, \"NIL\", 1250, 900, 5200, \"NIL\"],\n",
        "}\n",
        "mydata2 = pd.DataFrame(FEES_DETAILS)\n",
        "# Convert 'PENDING' column to numeric, treating \"NIL\" as NaN\n",
        "mydata2['PENDING'] = pd.to_numeric(mydata2['PENDING'],errors='coerce')\n",
        "\n",
        "# Wrangling Data given Using Merge Operation\n",
        "mydata = pd.merge(mydata1, mydata2, on=\"IDNO\")\n",
        "campus_fee_total = mydata.groupby('CAMPUS')['PENDING'].sum().reset_index()\n",
        "print(campus_fee_total)"
      ]
    },
    {
      "cell_type": "markdown",
      "metadata": {
        "id": "-tZ6dUUm_tIv"
      },
      "source": [
        "Quiz: There is a Car Selling company and this company have different Brands of\n",
        "various Car Manufacturing Company like Maruti, Toyota, Mahindra, Ford, etc. and have\n",
        "data where different cars are sold in different years. So the Company wants to wrangle\n",
        "only that data where cars are sold during the year 2010. For this problem, we use another\n",
        "Wrangling technique that is groupby() method."
      ]
    },
    {
      "cell_type": "code",
      "execution_count": 11,
      "metadata": {
        "colab": {
          "base_uri": "https://localhost:8080/"
        },
        "id": "0lqOVmsv_7u6",
        "outputId": "66388990-9cb6-41b6-d8a8-2329a18b3a76"
      },
      "outputs": [
        {
          "name": "stdout",
          "output_type": "stream",
          "text": [
            "\t\tCAR_DATA\n",
            "      Brand  Year    Model  Sales\n",
            "0    Maruti  2009    Swift    120\n",
            "1    Toyota  2010  Corolla    150\n",
            "2  Mahindra  2011  Scorpio     95\n",
            "3      Ford  2010   Fiesta     50\n",
            "4    Maruti  2010     Alto    105\n",
            "5    Toyota  2009    Camri    130\n",
            "6    Toyota  2010    Inova     90\n",
            "7      Ford  2012     Figo     75\n",
            "8  Mahindra  2010   Bolera     85\n",
            "9    Maruti  2009   WagonR    115\n",
            "<pandas.core.groupby.generic.DataFrameGroupBy object at 0x00000184EAF3E060>\n",
            "\n",
            "\n",
            "\t\t2010 SALES\n",
            "      Brand  Year    Model  Sales\n",
            "1    Toyota  2010  Corolla    150\n",
            "3      Ford  2010   Fiesta     50\n",
            "4    Maruti  2010     Alto    105\n",
            "6    Toyota  2010    Inova     90\n",
            "8  Mahindra  2010   Bolera     85\n"
          ]
        }
      ],
      "source": [
        "import pandas as pd\n",
        "car_data= {\n",
        "'Brand':[\"Maruti\",\"Toyota\",\"Mahindra\",\"Ford\",\"Maruti\",\"Toyota\",\"Toyota\",\"Ford\",\"Mahindra\",\"Maruti\"],\n",
        "'Year':[2009,2010,2011,2010,2010,2009,2010,2012,2010,2009],\n",
        "'Model':['Swift','Corolla','Scorpio','Fiesta','Alto','Camri','Inova','Figo','Bolera','WagonR'],\n",
        "'Sales':[120,150,95,50,105,130,90,75,85,115],\n",
        "}\n",
        "mydata=pd.DataFrame(car_data)\n",
        "print(\"\\t\\tCAR_DATA\")\n",
        "print(mydata)\n",
        "grouped_data=mydata.groupby('Year')\n",
        "print(grouped_data)\n",
        "print(\"\\n\")\n",
        "print(\"\\t\\t2010 SALES\")\n",
        "print(grouped_data.get_group(2010))"
      ]
    },
    {
      "cell_type": "markdown",
      "metadata": {
        "id": "4qP8OabLXB44"
      },
      "source": [
        "Using Several years in our Condition:"
      ]
    },
    {
      "cell_type": "code",
      "execution_count": 12,
      "metadata": {
        "colab": {
          "base_uri": "https://localhost:8080/"
        },
        "id": "3h9tZjMIXGVQ",
        "outputId": "da373440-4de6-4953-cd26-7433e9668109"
      },
      "outputs": [
        {
          "name": "stdout",
          "output_type": "stream",
          "text": [
            "\t\tCAR_DATA\n",
            "      Brand  Year    Model  Sales\n",
            "0    Maruti  2009    Swift    120\n",
            "1    Toyota  2010  Corolla    150\n",
            "2  Mahindra  2011  Scorpio     95\n",
            "3      Ford  2010   Fiesta     50\n",
            "4    Maruti  2010     Alto    105\n",
            "5    Toyota  2009    Camri    130\n",
            "6    Toyota  2010    Inova     90\n",
            "7      Ford  2012     Figo     75\n",
            "8  Mahindra  2010   Bolera     85\n",
            "9    Maruti  2009   WagonR    115\n",
            "\n",
            " Data for Year{year}\n",
            "\n",
            "\n",
            "    Brand  Year   Model  Sales\n",
            "0  Maruti  2009   Swift    120\n",
            "5  Toyota  2009   Camri    130\n",
            "9  Maruti  2009  WagonR    115\n",
            "\n",
            " Data for Year{year}\n",
            "\n",
            "\n",
            "      Brand  Year    Model  Sales\n",
            "2  Mahindra  2011  Scorpio     95\n",
            "\n",
            " Data for Year{year}\n",
            "\n",
            "\n",
            "  Brand  Year Model  Sales\n",
            "7  Ford  2012  Figo     75\n"
          ]
        }
      ],
      "source": [
        "import pandas as pd\n",
        "\n",
        "car_data = {\n",
        "    'Brand': [\"Maruti\", \"Toyota\", \"Mahindra\", \"Ford\", \"Maruti\", \"Toyota\", \"Toyota\", \"Ford\", \"Mahindra\", \"Maruti\"],\n",
        "    'Year': [2009, 2010, 2011, 2010, 2010, 2009, 2010, 2012, 2010, 2009],\n",
        "    'Model': ['Swift', 'Corolla', 'Scorpio', 'Fiesta', 'Alto', 'Camri', 'Inova', 'Figo', 'Bolera', 'WagonR'],\n",
        "    'Sales': [120, 150, 95, 50, 105, 130, 90, 75, 85, 115],\n",
        "}\n",
        "\n",
        "mydata = pd.DataFrame(car_data)\n",
        "print(\"\\t\\tCAR_DATA\")\n",
        "print(mydata)\n",
        "\n",
        "grouped_data = mydata.groupby('Year')\n",
        "mychoice = [2009, 2011, 2012]\n",
        "\n",
        "for year in mychoice:\n",
        "    print(\"\\n Data for Year{year}\")\n",
        "    print(\"\\n\")\n",
        "    print(grouped_data.get_group(year))"
      ]
    },
    {
      "cell_type": "markdown",
      "metadata": {
        "id": "JrqLaKoAk2UC"
      },
      "source": [
        "Alternatively, you can use relational operator:"
      ]
    },
    {
      "cell_type": "code",
      "execution_count": 13,
      "metadata": {
        "colab": {
          "base_uri": "https://localhost:8080/"
        },
        "id": "Q9_s2USBk3p9",
        "outputId": "a8a83748-19bd-4210-c7fb-487f18faecff"
      },
      "outputs": [
        {
          "name": "stdout",
          "output_type": "stream",
          "text": [
            "\t\t 2010 CAR SALES DATA\n",
            "      Brand  Year    Model  Sales\n",
            "1    Toyota  2010  Corolla    150\n",
            "3      Ford  2010   Fiesta     50\n",
            "4    Maruti  2010     Alto    105\n",
            "6    Toyota  2010    Inova     90\n",
            "8  Mahindra  2010   Bolera     85\n"
          ]
        }
      ],
      "source": [
        "import pandas as pd\n",
        "\n",
        "car_data = {\n",
        "    'Brand': [\"Maruti\", \"Toyota\", \"Mahindra\", \"Ford\", \"Maruti\", \"Toyota\", \"Toyota\", \"Ford\", \"Mahindra\", \"Maruti\"],\n",
        "    'Year': [2009, 2010, 2011, 2010, 2010, 2009, 2010, 2012, 2010, 2009],\n",
        "    'Model': ['Swift', 'Corolla', 'Scorpio', 'Fiesta', 'Alto', 'Camri', 'Inova', 'Figo', 'Bolera', 'WagonR'],\n",
        "    'Sales': [120, 150, 95, 50, 105, 130, 90, 75, 85, 115],\n",
        "}\n",
        "\n",
        "mydata = pd.DataFrame(car_data)\n",
        "print(\"\\t\\t 2010 CAR SALES DATA\")\n",
        "sales2010=mydata[mydata['Year']==2010]\n",
        "print(sales2010)"
      ]
    },
    {
      "cell_type": "markdown",
      "metadata": {
        "id": "bxJIJgHdmo19"
      },
      "source": [
        "Using logical Operator & (AND):"
      ]
    },
    {
      "cell_type": "code",
      "execution_count": 14,
      "metadata": {
        "colab": {
          "base_uri": "https://localhost:8080/"
        },
        "id": "W4WYyJIxmrjn",
        "outputId": "20961a9c-c1c7-4b37-e6b0-809788e18359"
      },
      "outputs": [
        {
          "name": "stdout",
          "output_type": "stream",
          "text": [
            "    Brand  Year    Model  Sales\n",
            "1  Toyota  2010  Corolla    150\n",
            "4  Maruti  2010     Alto    105\n"
          ]
        }
      ],
      "source": [
        "import pandas as pd\n",
        "\n",
        "car_data = {\n",
        "    'Brand': [\"Maruti\", \"Toyota\", \"Mahindra\", \"Ford\", \"Maruti\", \"Toyota\", \"Toyota\", \"Ford\", \"Mahindra\", \"Maruti\"],\n",
        "    'Year': [2009, 2010, 2011, 2010, 2010, 2009, 2010, 2012, 2010, 2009],\n",
        "    'Model': ['Swift', 'Corolla', 'Scorpio', 'Fiesta', 'Alto', 'Camri', 'Inova', 'Figo', 'Bolera', 'WagonR'],\n",
        "    'Sales': [120, 150, 95, 50, 105, 130, 90, 75, 85, 115],\n",
        "}\n",
        "\n",
        "mydata = pd.DataFrame(car_data)\n",
        "sales=mydata[(mydata['Year']==2010) & (mydata['Sales']>=100)]\n",
        "print(sales)"
      ]
    }
  ],
  "metadata": {
    "colab": {
      "provenance": []
    },
    "kernelspec": {
      "display_name": "Python 3",
      "name": "python3"
    },
    "language_info": {
      "codemirror_mode": {
        "name": "ipython",
        "version": 3
      },
      "file_extension": ".py",
      "mimetype": "text/x-python",
      "name": "python",
      "nbconvert_exporter": "python",
      "pygments_lexer": "ipython3",
      "version": "3.12.1"
    }
  },
  "nbformat": 4,
  "nbformat_minor": 0
}
